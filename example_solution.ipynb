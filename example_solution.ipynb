{
 "cells": [
  {
   "cell_type": "code",
   "execution_count": 137,
   "metadata": {
    "ExecuteTime": {
     "end_time": "2017-09-19T13:24:34.976367Z",
     "start_time": "2017-09-19T13:24:33.937023Z"
    },
    "collapsed": true
   },
   "outputs": [],
   "source": [
    "import pandas as pd\n",
    "from collections import Counter\n",
    "import tqdm\n",
    "import re\n",
    "import math\n",
    "import numpy as np\n",
    "from sklearn.ensemble import RandomForestClassifier\n",
    "from sklearn.metrics import classification_report\n",
    "from sklearn.metrics import roc_auc_score\n",
    "from sklearn.neural_network import MLPClassifier\n",
    "import functools\n",
    "import sys\n",
    "from __future__ import division # for python2 compatability\n",
    "from nltk.stem.snowball import RussianStemmer"
   ]
  },
  {
   "cell_type": "code",
   "execution_count": 2,
   "metadata": {
    "ExecuteTime": {
     "end_time": "2017-09-19T13:25:24.940221Z",
     "start_time": "2017-09-19T13:25:22.313329Z"
    },
    "collapsed": true
   },
   "outputs": [],
   "source": [
    "dftrain = pd.read_csv(\"train_task1_latest.csv\", encoding='utf-8')[:-1000]\n",
    "dfval = pd.read_csv(\"train_task1_latest.csv\", encoding='utf-8')[-1000:]\n",
    "dftest = pd.read_csv(\"sdsj_A_test.csv\", encoding='utf-8')"
   ]
  },
  {
   "cell_type": "code",
   "execution_count": 77,
   "metadata": {
    "ExecuteTime": {
     "end_time": "2017-09-19T13:24:37.145227Z",
     "start_time": "2017-09-19T13:24:37.121529Z"
    },
    "collapsed": true
   },
   "outputs": [],
   "source": [
    "stemer = RussianStemmer()\n",
    "stem_cache = {}\n",
    "\n",
    "def get_stem(token):\n",
    "    stem = stem_cache.get(token, None)\n",
    "    if stem:\n",
    "        return stem\n",
    "    token = token.lower()\n",
    "    stem = stemer.stem(token)\n",
    "    stem_cache[token] = stem\n",
    "    return stem\n",
    "\n",
    "def words_arr(text):\n",
    "    words = re.findall(\"\\w+\", text, re.UNICODE);\n",
    "    stem_words = []\n",
    "    for word in words:\n",
    "        stem_words.append(get_stem(word))\n",
    "    return stem_words\n",
    "\n",
    "def uniq_words(text):\n",
    "    words = re.findall(\"\\w+\", text, re.UNICODE);\n",
    "    stem_words = []\n",
    "    for word in words:\n",
    "        stem_words.append(get_stem(word))\n",
    "    return set(stem_words)\n",
    "\n",
    "def calculate_idfs(data):\n",
    "    counter_paragraph = Counter()\n",
    "    uniq_paragraphs = data['paragraph'].unique()\n",
    "    for paragraph in tqdm.tqdm(uniq_paragraphs, desc=\"calc idf\"):\n",
    "        set_words = uniq_words(paragraph)\n",
    "        counter_paragraph.update(set_words)\n",
    "        \n",
    "    num_docs = uniq_paragraphs.shape[0]\n",
    "    idfs = {}\n",
    "    for word in counter_paragraph:\n",
    "        idfs[word] = np.log(num_docs / counter_paragraph[word])\n",
    "    return idfs"
   ]
  },
  {
   "cell_type": "code",
   "execution_count": 247,
   "metadata": {},
   "outputs": [
    {
     "name": "stdout",
     "output_type": "stream",
     "text": [
      "Total unique stems found:  63784\n"
     ]
    }
   ],
   "source": [
    "stem_count = Counter()\n",
    "\n",
    "def count_unique_words(texts):\n",
    "    for text in texts:\n",
    "        words = words_arr(text)\n",
    "        for word in words:\n",
    "            stem = get_stem(word)\n",
    "            stem_count[stem] += 1\n",
    "\n",
    "count_unique_words(dftrain.paragraph)\n",
    "count_unique_words(dftrain.question)\n",
    "count_unique_words(dftest.paragraph)\n",
    "count_unique_words(dftest.question)\n",
    "\n",
    "print(\"Total unique stems found: \", len(stem_count))"
   ]
  },
  {
   "cell_type": "code",
   "execution_count": 307,
   "metadata": {},
   "outputs": [
    {
     "name": "stdout",
     "output_type": "stream",
     "text": [
      "['фактор', 'никол', 'потер', 'поиск', 'отказ', 'святосла', 'формир', 'объясн', 'поддержив', 'глебович', 'помог', 'правительств', 'проект', 'торг', 'единиц', 'нормативн', 'пис', 'выбор', '300', 'бабочк', 'советск', 'pistols', 'кредитн', 'преступл', 'жител', 'леж', 'сегодн', 'полет', 'задн', 'опир', 'защищ', 'показател', 'дол', '15', 'подробн', 'процент', 'круг', 'региональн', 'страд', 'москв', 'лучш', 'происхожд', 'сто', 'ричард', 'истин', 'внов', 'запрет', 'дев', 'встрет', 'резерв', 'средневек', 'клеток', 'размнож', 'примитивн', 'принципиальн', '30', 'доступн', 'рома', 'уточн', 'тург', 'прежд', 'участк', 'сближ', 'стоик', 'рамк', 'достоверн', 'ориентиров', 'схем', 'характериз', 'органическ', 'удовлетвор', 'сахар', 'ткан', 'успех', 'операц', 'монет', 'восточн', 'отпра', 'знак', '25', 'выступл', 'полковник', 'сейчас', 'август', '000', 'июн', 'сочета', 'существова', 'доход', 'предста', 'ад', 'усредн', 'перевод', 'процессор', 'and', 'возникл', 'дет', 'контекст', 'обм', 'показ']\n"
     ]
    }
   ],
   "source": [
    "VOCAB_SKIP_SIZE = 1000\n",
    "VOCAB_SIZE = len(stem_count) - VOCAB_SKIP_SIZE\n",
    "vocab = sorted(stem_count, key=stem_count.get, reverse=True)[VOCAB_SKIP_SIZE:]\n",
    "print(vocab[:100])"
   ]
  },
  {
   "cell_type": "code",
   "execution_count": 290,
   "metadata": {
    "collapsed": true
   },
   "outputs": [],
   "source": [
    "word_2_idx = {vocab[i] : i for i in range(VOCAB_SIZE)}\n",
    "\n",
    "def text_to_vector(text, show_unknowns=False):\n",
    "    vector = np.zeros(VOCAB_SIZE, dtype=np.int_)\n",
    "    for word in words_arr(text):\n",
    "        stem = get_stem(word)\n",
    "        idx = word_2_idx.get(stem, None)\n",
    "        if idx is not None:\n",
    "            vector[idx] = 1\n",
    "        elif show_unknowns:\n",
    "            print(\"Unknown token: {}\".format(token))\n",
    "    return vector"
   ]
  },
  {
   "cell_type": "code",
   "execution_count": 291,
   "metadata": {},
   "outputs": [
    {
     "name": "stdout",
     "output_type": "stream",
     "text": [
      "text: В отличие от рыб, земноводные (амфибии) и пресмыкающиеся (рептилии или гады) уже имеют два круга кровообращения и сердце у них трёхкамерное (появляется межпредсердная перегородка). Единственные современные рептилии, имеющие хотя и неполноценное (межпредсердиевая перегородка не полностью разделяет предсердия, что скорей всего связано с переходом предков к полуводному образу жизни и снижению активности), но уже четырёхкамерное сердце — крокодилы. Считается, что впервые четырёхкамерное сердце появилось у примитивных архозавров и развитых синапсидов. В дальнейшем такое строение сердца унаследовали прямые потомки динозавров — птицы и потомки примитивных млекопитающих — современные млекопитающие.\n",
      "vector: [1 1 0 1 0 0 0 0 0 0 1 0 1 0 1 0 1 1 1 0 0 0 1 0 0 0 0 0 1 0 0 0 0 0 0 0 0\n",
      " 0 0 0 0 0 0 0 0 0 0 0 0 0 0 0 0 1 0 0 0 0 0 0 0 0 0 0 1 0 0 1 0 0 0 0 0 0\n",
      " 0 0 0 0 0 0 0 0 0 0 0 0 0 0 0 0 0 0 0 0 0 0 0 0 0 0]\n"
     ]
    }
   ],
   "source": [
    "text = dftrain.paragraph[0]\n",
    "print(\"text: {}\".format(text))\n",
    "print(\"vector: {}\".format(text_to_vector(text)[:100]))"
   ]
  },
  {
   "cell_type": "code",
   "execution_count": 292,
   "metadata": {},
   "outputs": [],
   "source": [
    "def get_rare_words_score(text1, text2):\n",
    "    vec1 = text_to_vector(text1)\n",
    "    vec2 = text_to_vector(text2)\n",
    "    return sum(np.multiply(vec1, vec2))"
   ]
  },
  {
   "cell_type": "code",
   "execution_count": 293,
   "metadata": {},
   "outputs": [
    {
     "name": "stdout",
     "output_type": "stream",
     "text": [
      "0\n"
     ]
    }
   ],
   "source": [
    "text1 = dftrain.paragraph[13] #'Иван родил девченку, велел нести пеленку'\n",
    "text2 = dftrain.question[13] #'Кого родил Иван?'\n",
    "\n",
    "def text_arr_to_vec(text_arr, vocab):\n",
    "    result = []\n",
    "    for vocab_word in vocab:\n",
    "        result_word = []\n",
    "        for word in text_arr:\n",
    "            if word == vocab_word:\n",
    "                result_word.append(1)\n",
    "            else:\n",
    "                result_word.append(0)\n",
    "        result.append(result_word)\n",
    "    return result\n",
    "\n",
    "def remove_outliers(arr):\n",
    "    result = []\n",
    "    for i in range(len(arr)):\n",
    "        first = 0\n",
    "        third = 0\n",
    "        if i > 0:\n",
    "            first = arr[i-1]\n",
    "        if i < len(arr) - 1:\n",
    "            third = arr[i+1]\n",
    "        if first == 0 and third == 0 and arr[i] <= 1:\n",
    "            result.append(0)\n",
    "        else: \n",
    "            result.append(arr[i])\n",
    "    \n",
    "    return result\n",
    "\n",
    "def get_convolve_score(text1, text2):\n",
    "    par = words_arr(text1)\n",
    "    que = words_arr(text2)\n",
    "    same_words = uniq_words(text1) &  uniq_words(text2)\n",
    "    conv1 = text_arr_to_vec(par, list(same_words));\n",
    "    conv2 = text_arr_to_vec(que, list(same_words));\n",
    "    convols = [];\n",
    "    for i in range(len(same_words)):\n",
    "        convols.append(np.convolve(conv1[i], conv2[i]))\n",
    "    if len(convols) > 1:\n",
    "        convols_sum = sum(convols)\n",
    "    elif len(convols) == 0:\n",
    "        return 0\n",
    "    else:\n",
    "        convols_sum = convols[0]\n",
    "    return sum(remove_outliers(convols_sum))\n",
    "\n",
    "print(get_convolve_score(text1, text2))\n"
   ]
  },
  {
   "cell_type": "code",
   "execution_count": 294,
   "metadata": {},
   "outputs": [
    {
     "name": "stderr",
     "output_type": "stream",
     "text": [
      "build features for train: 100%|██████████| 118398/118398 [13:13<00:00, 149.27it/s]\n",
      "build features for test: 100%|██████████| 74286/74286 [08:10<00:00, 151.47it/s]\n",
      "build features for val: 100%|██████████| 1000/1000 [00:06<00:00, 156.88it/s]\n"
     ]
    }
   ],
   "source": [
    "for name, df in [('train', dftrain), ('test', dftest), ('val', dfval)]:\n",
    "    for index, row in tqdm.tqdm(df.iterrows(), total=df.shape[0], desc=\"build features for \" + name):\n",
    "        question = uniq_words(row.question)\n",
    "        paragraph = uniq_words(row.paragraph)\n",
    "        df.loc[index, 'rare_words_score'] = get_rare_words_score(row.paragraph, row.question)"
   ]
  },
  {
   "cell_type": "code",
   "execution_count": 4,
   "metadata": {
    "ExecuteTime": {
     "end_time": "2017-09-19T13:25:36.111232Z",
     "start_time": "2017-09-19T13:25:34.290248Z"
    }
   },
   "outputs": [
    {
     "name": "stderr",
     "output_type": "stream",
     "text": [
      "calc idf: 100%|██████████| 9062/9062 [00:12<00:00, 724.23it/s]\n"
     ]
    }
   ],
   "source": [
    "idfs = calculate_idfs(dftrain)"
   ]
  },
  {
   "cell_type": "code",
   "execution_count": 265,
   "metadata": {
    "ExecuteTime": {
     "end_time": "2017-09-19T13:43:21.823379Z",
     "start_time": "2017-09-19T13:25:37.715224Z"
    },
    "scrolled": true
   },
   "outputs": [
    {
     "name": "stderr",
     "output_type": "stream",
     "text": [
      "build features for train: 100%|██████████| 118398/118398 [23:03<00:00, 85.57it/s]\n",
      "build features for test: 100%|██████████| 74286/74286 [14:00<00:00, 88.34it/s] \n",
      "build features for val: 100%|██████████| 1000/1000 [00:09<00:00, 101.71it/s]\n"
     ]
    }
   ],
   "source": [
    "for name, df in [('train', dftrain), ('test', dftest), ('val', dfval)]:\n",
    "    for index, row in tqdm.tqdm(df.iterrows(), total=df.shape[0], desc=\"build features for \" + name):\n",
    "        question = uniq_words(row.question)\n",
    "        paragraph = uniq_words(row.paragraph)\n",
    "        df.loc[index, 'len_paragraph'] = len(paragraph)\n",
    "        df.loc[index, 'len_question'] = len(question)\n",
    "        df.loc[index, 'len_intersection'] = len(paragraph & question)\n",
    "        df.loc[index, 'idf_question'] = np.sum([idfs.get(word, 0.0) for word in question])\n",
    "        df.loc[index, 'idf_paragraph'] = np.sum([idfs.get(word, 0.0) for word in paragraph])\n",
    "        df.loc[index, 'idf_intersection'] = np.sum([idfs.get(word, 0.0) for word in paragraph & question])\n",
    "        df.loc[index, 'convolve_score'] = get_convolve_score(row.paragraph, row.question)\n",
    "        df.loc[index, 'rare_words_score'] = get_rare_words_score(row.paragraph, row.question)"
   ]
  },
  {
   "cell_type": "code",
   "execution_count": 172,
   "metadata": {
    "ExecuteTime": {
     "end_time": "2017-09-19T13:43:21.877669Z",
     "start_time": "2017-09-19T13:43:21.831574Z"
    }
   },
   "outputs": [
    {
     "data": {
      "text/html": [
       "<div>\n",
       "<style>\n",
       "    .dataframe thead tr:only-child th {\n",
       "        text-align: right;\n",
       "    }\n",
       "\n",
       "    .dataframe thead th {\n",
       "        text-align: left;\n",
       "    }\n",
       "\n",
       "    .dataframe tbody tr th {\n",
       "        vertical-align: top;\n",
       "    }\n",
       "</style>\n",
       "<table border=\"1\" class=\"dataframe\">\n",
       "  <thead>\n",
       "    <tr style=\"text-align: right;\">\n",
       "      <th></th>\n",
       "      <th>paragraph_id</th>\n",
       "      <th>question_id</th>\n",
       "      <th>paragraph</th>\n",
       "      <th>question</th>\n",
       "      <th>target</th>\n",
       "      <th>len_paragraph</th>\n",
       "      <th>len_question</th>\n",
       "      <th>len_intersection</th>\n",
       "      <th>idf_question</th>\n",
       "      <th>idf_paragraph</th>\n",
       "      <th>idf_intersection</th>\n",
       "    </tr>\n",
       "  </thead>\n",
       "  <tbody>\n",
       "    <tr>\n",
       "      <th>0</th>\n",
       "      <td>1094</td>\n",
       "      <td>46273</td>\n",
       "      <td>В отличие от рыб, земноводные (амфибии) и прес...</td>\n",
       "      <td>С какого года Русское Царство перешло на летои...</td>\n",
       "      <td>0.0</td>\n",
       "      <td>65.0</td>\n",
       "      <td>19.0</td>\n",
       "      <td>4.0</td>\n",
       "      <td>61.147393</td>\n",
       "      <td>276.872975</td>\n",
       "      <td>2.563939</td>\n",
       "    </tr>\n",
       "    <tr>\n",
       "      <th>1</th>\n",
       "      <td>7414</td>\n",
       "      <td>19164</td>\n",
       "      <td>В 1049 году Балдуину V удалось отнять у Герман...</td>\n",
       "      <td>Кто упомянул о его первых разногласиях со Штей...</td>\n",
       "      <td>0.0</td>\n",
       "      <td>78.0</td>\n",
       "      <td>31.0</td>\n",
       "      <td>4.0</td>\n",
       "      <td>130.467286</td>\n",
       "      <td>340.304312</td>\n",
       "      <td>3.064391</td>\n",
       "    </tr>\n",
       "    <tr>\n",
       "      <th>2</th>\n",
       "      <td>6744</td>\n",
       "      <td>39767</td>\n",
       "      <td>Стремление достичь предельных значений ёмкости...</td>\n",
       "      <td>Как называется имеющая мировое значение эпоха ...</td>\n",
       "      <td>0.0</td>\n",
       "      <td>58.0</td>\n",
       "      <td>20.0</td>\n",
       "      <td>5.0</td>\n",
       "      <td>63.454290</td>\n",
       "      <td>250.442841</td>\n",
       "      <td>5.788364</td>\n",
       "    </tr>\n",
       "    <tr>\n",
       "      <th>3</th>\n",
       "      <td>7300</td>\n",
       "      <td>36318</td>\n",
       "      <td>Первый практически пригодный двухтактный газов...</td>\n",
       "      <td>Что усугублялось из-за международного давления...</td>\n",
       "      <td>0.0</td>\n",
       "      <td>62.0</td>\n",
       "      <td>14.0</td>\n",
       "      <td>3.0</td>\n",
       "      <td>45.780231</td>\n",
       "      <td>271.774961</td>\n",
       "      <td>0.944176</td>\n",
       "    </tr>\n",
       "    <tr>\n",
       "      <th>4</th>\n",
       "      <td>7077</td>\n",
       "      <td>41534</td>\n",
       "      <td>Требуя от художника углубленного изучения изоб...</td>\n",
       "      <td>Какой характер носят пророчества Леонардо да В...</td>\n",
       "      <td>0.0</td>\n",
       "      <td>85.0</td>\n",
       "      <td>7.0</td>\n",
       "      <td>4.0</td>\n",
       "      <td>32.919097</td>\n",
       "      <td>371.141486</td>\n",
       "      <td>20.729693</td>\n",
       "    </tr>\n",
       "    <tr>\n",
       "      <th>5</th>\n",
       "      <td>3559</td>\n",
       "      <td>62585</td>\n",
       "      <td>Белки — высокомолекулярные органические вещест...</td>\n",
       "      <td>Какие действия предприняла подводная лодка Чер...</td>\n",
       "      <td>0.0</td>\n",
       "      <td>64.0</td>\n",
       "      <td>16.0</td>\n",
       "      <td>4.0</td>\n",
       "      <td>63.803913</td>\n",
       "      <td>226.961762</td>\n",
       "      <td>6.116762</td>\n",
       "    </tr>\n",
       "    <tr>\n",
       "      <th>6</th>\n",
       "      <td>4350</td>\n",
       "      <td>3730</td>\n",
       "      <td>Прайсинговые методы — в основе лежит принцип и...</td>\n",
       "      <td>Как называют остановки, до которых и на которы...</td>\n",
       "      <td>0.0</td>\n",
       "      <td>78.0</td>\n",
       "      <td>12.0</td>\n",
       "      <td>5.0</td>\n",
       "      <td>33.959472</td>\n",
       "      <td>295.843089</td>\n",
       "      <td>3.073182</td>\n",
       "    </tr>\n",
       "    <tr>\n",
       "      <th>7</th>\n",
       "      <td>8012</td>\n",
       "      <td>86629</td>\n",
       "      <td>Применяли изначально для определения близкород...</td>\n",
       "      <td>Какой признак киевский монах Нестор-летописец ...</td>\n",
       "      <td>1.0</td>\n",
       "      <td>101.0</td>\n",
       "      <td>10.0</td>\n",
       "      <td>8.0</td>\n",
       "      <td>46.478067</td>\n",
       "      <td>406.091761</td>\n",
       "      <td>37.889658</td>\n",
       "    </tr>\n",
       "    <tr>\n",
       "      <th>8</th>\n",
       "      <td>3634</td>\n",
       "      <td>69421</td>\n",
       "      <td>Успешная конверсия по-разному определяется гру...</td>\n",
       "      <td>Чтобы понять, по какому рекламному каналу приш...</td>\n",
       "      <td>1.0</td>\n",
       "      <td>80.0</td>\n",
       "      <td>18.0</td>\n",
       "      <td>17.0</td>\n",
       "      <td>59.652443</td>\n",
       "      <td>341.256510</td>\n",
       "      <td>58.572958</td>\n",
       "    </tr>\n",
       "    <tr>\n",
       "      <th>9</th>\n",
       "      <td>4350</td>\n",
       "      <td>27335</td>\n",
       "      <td>Прайсинговые методы — в основе лежит принцип и...</td>\n",
       "      <td>Урожайность сои в каких странах почти не отлич...</td>\n",
       "      <td>0.0</td>\n",
       "      <td>78.0</td>\n",
       "      <td>11.0</td>\n",
       "      <td>4.0</td>\n",
       "      <td>31.950789</td>\n",
       "      <td>295.843089</td>\n",
       "      <td>3.014817</td>\n",
       "    </tr>\n",
       "    <tr>\n",
       "      <th>10</th>\n",
       "      <td>1436</td>\n",
       "      <td>21441</td>\n",
       "      <td>Относительно нормативности использовании терми...</td>\n",
       "      <td>Какую форму пиксел или пиксель Русский орфогра...</td>\n",
       "      <td>1.0</td>\n",
       "      <td>96.0</td>\n",
       "      <td>14.0</td>\n",
       "      <td>14.0</td>\n",
       "      <td>55.983933</td>\n",
       "      <td>367.752901</td>\n",
       "      <td>55.983933</td>\n",
       "    </tr>\n",
       "    <tr>\n",
       "      <th>11</th>\n",
       "      <td>949</td>\n",
       "      <td>51239</td>\n",
       "      <td>1980-е годы для Спилберга были своего рода пло...</td>\n",
       "      <td>Какая скорость ленты магнитофона считалась мин...</td>\n",
       "      <td>0.0</td>\n",
       "      <td>75.0</td>\n",
       "      <td>16.0</td>\n",
       "      <td>5.0</td>\n",
       "      <td>52.250749</td>\n",
       "      <td>342.469608</td>\n",
       "      <td>3.028458</td>\n",
       "    </tr>\n",
       "    <tr>\n",
       "      <th>12</th>\n",
       "      <td>4817</td>\n",
       "      <td>54121</td>\n",
       "      <td>Первым романтическим увлечением юного Тургенев...</td>\n",
       "      <td>Кто в итоге стал любовником Екатерины Шаховско...</td>\n",
       "      <td>1.0</td>\n",
       "      <td>72.0</td>\n",
       "      <td>9.0</td>\n",
       "      <td>4.0</td>\n",
       "      <td>43.736849</td>\n",
       "      <td>342.678024</td>\n",
       "      <td>19.326356</td>\n",
       "    </tr>\n",
       "    <tr>\n",
       "      <th>13</th>\n",
       "      <td>3489</td>\n",
       "      <td>43748</td>\n",
       "      <td>После Платона и Аристотеля в Греции, а затем в...</td>\n",
       "      <td>Кто в своих работах показал, что всё человечес...</td>\n",
       "      <td>0.0</td>\n",
       "      <td>109.0</td>\n",
       "      <td>18.0</td>\n",
       "      <td>6.0</td>\n",
       "      <td>63.066003</td>\n",
       "      <td>439.262260</td>\n",
       "      <td>9.287563</td>\n",
       "    </tr>\n",
       "    <tr>\n",
       "      <th>14</th>\n",
       "      <td>5156</td>\n",
       "      <td>87209</td>\n",
       "      <td>В древности разум традиционно связывался с бла...</td>\n",
       "      <td>Что сделал автор, когда набрёл на случай, о то...</td>\n",
       "      <td>0.0</td>\n",
       "      <td>105.0</td>\n",
       "      <td>23.0</td>\n",
       "      <td>5.0</td>\n",
       "      <td>84.585901</td>\n",
       "      <td>491.972698</td>\n",
       "      <td>5.259664</td>\n",
       "    </tr>\n",
       "    <tr>\n",
       "      <th>15</th>\n",
       "      <td>7814</td>\n",
       "      <td>28531</td>\n",
       "      <td>Сразу после возвращения Фрама Нансен стал глав...</td>\n",
       "      <td>В каком году Роберт Скотт обратился за консуль...</td>\n",
       "      <td>1.0</td>\n",
       "      <td>104.0</td>\n",
       "      <td>10.0</td>\n",
       "      <td>6.0</td>\n",
       "      <td>34.078069</td>\n",
       "      <td>478.676802</td>\n",
       "      <td>20.779685</td>\n",
       "    </tr>\n",
       "    <tr>\n",
       "      <th>16</th>\n",
       "      <td>2270</td>\n",
       "      <td>78977</td>\n",
       "      <td>Из российских и советских актёров ролями в амп...</td>\n",
       "      <td>Что является одним из наиболее убедительных до...</td>\n",
       "      <td>0.0</td>\n",
       "      <td>90.0</td>\n",
       "      <td>9.0</td>\n",
       "      <td>3.0</td>\n",
       "      <td>36.399344</td>\n",
       "      <td>448.190969</td>\n",
       "      <td>5.541857</td>\n",
       "    </tr>\n",
       "    <tr>\n",
       "      <th>17</th>\n",
       "      <td>5116</td>\n",
       "      <td>59287</td>\n",
       "      <td>Отец Ивана Сергей Николаевич Тургенев (1793—18...</td>\n",
       "      <td>В каком году Еврипид завоевал первый приз за м...</td>\n",
       "      <td>0.0</td>\n",
       "      <td>113.0</td>\n",
       "      <td>9.0</td>\n",
       "      <td>3.0</td>\n",
       "      <td>29.186961</td>\n",
       "      <td>551.588874</td>\n",
       "      <td>2.527338</td>\n",
       "    </tr>\n",
       "    <tr>\n",
       "      <th>18</th>\n",
       "      <td>254</td>\n",
       "      <td>87786</td>\n",
       "      <td>В древнегреческой мысли монотеистическая идея ...</td>\n",
       "      <td>Какой термин вошёл в широкий обиход с начала 1...</td>\n",
       "      <td>0.0</td>\n",
       "      <td>71.0</td>\n",
       "      <td>24.0</td>\n",
       "      <td>5.0</td>\n",
       "      <td>80.390910</td>\n",
       "      <td>328.638036</td>\n",
       "      <td>2.982035</td>\n",
       "    </tr>\n",
       "    <tr>\n",
       "      <th>19</th>\n",
       "      <td>7990</td>\n",
       "      <td>36305</td>\n",
       "      <td>В СССР бытовые магнитофоны стали широко доступ...</td>\n",
       "      <td>Кто построил мечеть в Гумуке, в 777 году по р.х.?</td>\n",
       "      <td>0.0</td>\n",
       "      <td>76.0</td>\n",
       "      <td>10.0</td>\n",
       "      <td>4.0</td>\n",
       "      <td>40.495790</td>\n",
       "      <td>322.176781</td>\n",
       "      <td>4.605650</td>\n",
       "    </tr>\n",
       "  </tbody>\n",
       "</table>\n",
       "</div>"
      ],
      "text/plain": [
       "    paragraph_id  question_id  \\\n",
       "0           1094        46273   \n",
       "1           7414        19164   \n",
       "2           6744        39767   \n",
       "3           7300        36318   \n",
       "4           7077        41534   \n",
       "5           3559        62585   \n",
       "6           4350         3730   \n",
       "7           8012        86629   \n",
       "8           3634        69421   \n",
       "9           4350        27335   \n",
       "10          1436        21441   \n",
       "11           949        51239   \n",
       "12          4817        54121   \n",
       "13          3489        43748   \n",
       "14          5156        87209   \n",
       "15          7814        28531   \n",
       "16          2270        78977   \n",
       "17          5116        59287   \n",
       "18           254        87786   \n",
       "19          7990        36305   \n",
       "\n",
       "                                            paragraph  \\\n",
       "0   В отличие от рыб, земноводные (амфибии) и прес...   \n",
       "1   В 1049 году Балдуину V удалось отнять у Герман...   \n",
       "2   Стремление достичь предельных значений ёмкости...   \n",
       "3   Первый практически пригодный двухтактный газов...   \n",
       "4   Требуя от художника углубленного изучения изоб...   \n",
       "5   Белки — высокомолекулярные органические вещест...   \n",
       "6   Прайсинговые методы — в основе лежит принцип и...   \n",
       "7   Применяли изначально для определения близкород...   \n",
       "8   Успешная конверсия по-разному определяется гру...   \n",
       "9   Прайсинговые методы — в основе лежит принцип и...   \n",
       "10  Относительно нормативности использовании терми...   \n",
       "11  1980-е годы для Спилберга были своего рода пло...   \n",
       "12  Первым романтическим увлечением юного Тургенев...   \n",
       "13  После Платона и Аристотеля в Греции, а затем в...   \n",
       "14  В древности разум традиционно связывался с бла...   \n",
       "15  Сразу после возвращения Фрама Нансен стал глав...   \n",
       "16  Из российских и советских актёров ролями в амп...   \n",
       "17  Отец Ивана Сергей Николаевич Тургенев (1793—18...   \n",
       "18  В древнегреческой мысли монотеистическая идея ...   \n",
       "19  В СССР бытовые магнитофоны стали широко доступ...   \n",
       "\n",
       "                                             question  target  len_paragraph  \\\n",
       "0   С какого года Русское Царство перешло на летои...     0.0           65.0   \n",
       "1   Кто упомянул о его первых разногласиях со Штей...     0.0           78.0   \n",
       "2   Как называется имеющая мировое значение эпоха ...     0.0           58.0   \n",
       "3   Что усугублялось из-за международного давления...     0.0           62.0   \n",
       "4   Какой характер носят пророчества Леонардо да В...     0.0           85.0   \n",
       "5   Какие действия предприняла подводная лодка Чер...     0.0           64.0   \n",
       "6   Как называют остановки, до которых и на которы...     0.0           78.0   \n",
       "7   Какой признак киевский монах Нестор-летописец ...     1.0          101.0   \n",
       "8   Чтобы понять, по какому рекламному каналу приш...     1.0           80.0   \n",
       "9   Урожайность сои в каких странах почти не отлич...     0.0           78.0   \n",
       "10  Какую форму пиксел или пиксель Русский орфогра...     1.0           96.0   \n",
       "11  Какая скорость ленты магнитофона считалась мин...     0.0           75.0   \n",
       "12  Кто в итоге стал любовником Екатерины Шаховско...     1.0           72.0   \n",
       "13  Кто в своих работах показал, что всё человечес...     0.0          109.0   \n",
       "14  Что сделал автор, когда набрёл на случай, о то...     0.0          105.0   \n",
       "15  В каком году Роберт Скотт обратился за консуль...     1.0          104.0   \n",
       "16  Что является одним из наиболее убедительных до...     0.0           90.0   \n",
       "17  В каком году Еврипид завоевал первый приз за м...     0.0          113.0   \n",
       "18  Какой термин вошёл в широкий обиход с начала 1...     0.0           71.0   \n",
       "19  Кто построил мечеть в Гумуке, в 777 году по р.х.?     0.0           76.0   \n",
       "\n",
       "    len_question  len_intersection  idf_question  idf_paragraph  \\\n",
       "0           19.0               4.0     61.147393     276.872975   \n",
       "1           31.0               4.0    130.467286     340.304312   \n",
       "2           20.0               5.0     63.454290     250.442841   \n",
       "3           14.0               3.0     45.780231     271.774961   \n",
       "4            7.0               4.0     32.919097     371.141486   \n",
       "5           16.0               4.0     63.803913     226.961762   \n",
       "6           12.0               5.0     33.959472     295.843089   \n",
       "7           10.0               8.0     46.478067     406.091761   \n",
       "8           18.0              17.0     59.652443     341.256510   \n",
       "9           11.0               4.0     31.950789     295.843089   \n",
       "10          14.0              14.0     55.983933     367.752901   \n",
       "11          16.0               5.0     52.250749     342.469608   \n",
       "12           9.0               4.0     43.736849     342.678024   \n",
       "13          18.0               6.0     63.066003     439.262260   \n",
       "14          23.0               5.0     84.585901     491.972698   \n",
       "15          10.0               6.0     34.078069     478.676802   \n",
       "16           9.0               3.0     36.399344     448.190969   \n",
       "17           9.0               3.0     29.186961     551.588874   \n",
       "18          24.0               5.0     80.390910     328.638036   \n",
       "19          10.0               4.0     40.495790     322.176781   \n",
       "\n",
       "    idf_intersection  \n",
       "0           2.563939  \n",
       "1           3.064391  \n",
       "2           5.788364  \n",
       "3           0.944176  \n",
       "4          20.729693  \n",
       "5           6.116762  \n",
       "6           3.073182  \n",
       "7          37.889658  \n",
       "8          58.572958  \n",
       "9           3.014817  \n",
       "10         55.983933  \n",
       "11          3.028458  \n",
       "12         19.326356  \n",
       "13          9.287563  \n",
       "14          5.259664  \n",
       "15         20.779685  \n",
       "16          5.541857  \n",
       "17          2.527338  \n",
       "18          2.982035  \n",
       "19          4.605650  "
      ]
     },
     "execution_count": 172,
     "metadata": {},
     "output_type": "execute_result"
    }
   ],
   "source": [
    "dftrain.head(20)"
   ]
  },
  {
   "cell_type": "code",
   "execution_count": 385,
   "metadata": {
    "ExecuteTime": {
     "end_time": "2017-09-19T13:43:35.971190Z",
     "start_time": "2017-09-19T13:43:21.880564Z"
    }
   },
   "outputs": [],
   "source": [
    "columns = ['len_paragraph', 'len_question', 'len_intersection', 'idf_question', 'idf_paragraph', 'idf_intersection', 'convolve_score', 'rare_words_score']\n",
    "model = RandomForestClassifier().fit(dftrain[columns], dftrain['target'])\n",
    "dftest['prediction'] = model.predict(dftest[columns])"
   ]
  },
  {
   "cell_type": "code",
   "execution_count": 386,
   "metadata": {
    "ExecuteTime": {
     "end_time": "2017-09-19T13:43:36.798410Z",
     "start_time": "2017-09-19T13:43:35.974870Z"
    },
    "collapsed": true
   },
   "outputs": [],
   "source": [
    "dftest[['paragraph_id', 'question_id', 'prediction']].to_csv(\"prediction.csv\", index=False)"
   ]
  },
  {
   "cell_type": "code",
   "execution_count": 387,
   "metadata": {},
   "outputs": [
    {
     "data": {
      "text/plain": [
       "971"
      ]
     },
     "execution_count": 387,
     "metadata": {},
     "output_type": "execute_result"
    }
   ],
   "source": [
    "from sklearn.metrics import accuracy_score\n",
    "\n",
    "predict_val = model.predict(dfval[columns])\n",
    "accuracy_score(y_true=list(dfval['target']), y_pred=predict_val, normalize=False)"
   ]
  },
  {
   "cell_type": "code",
   "execution_count": 388,
   "metadata": {},
   "outputs": [
    {
     "data": {
      "text/plain": [
       "0.96836514150558684"
      ]
     },
     "execution_count": 388,
     "metadata": {},
     "output_type": "execute_result"
    }
   ],
   "source": [
    "from sklearn.metrics import roc_auc_score\n",
    "roc_auc_score(list(dfval['target']), predict_val)"
   ]
  },
  {
   "cell_type": "code",
   "execution_count": null,
   "metadata": {
    "collapsed": true
   },
   "outputs": [],
   "source": []
  }
 ],
 "metadata": {
  "kernelspec": {
   "display_name": "Python 3",
   "language": "python",
   "name": "python3"
  },
  "language_info": {
   "codemirror_mode": {
    "name": "ipython",
    "version": 3
   },
   "file_extension": ".py",
   "mimetype": "text/x-python",
   "name": "python",
   "nbconvert_exporter": "python",
   "pygments_lexer": "ipython3",
   "version": "3.6.1"
  },
  "toc": {
   "toc_cell": false,
   "toc_number_sections": true,
   "toc_threshold": 6,
   "toc_window_display": false
  }
 },
 "nbformat": 4,
 "nbformat_minor": 2
}
